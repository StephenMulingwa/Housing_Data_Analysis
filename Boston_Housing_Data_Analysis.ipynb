{
 "cells": [
  {
   "cell_type": "markdown",
   "metadata": {
    "id": "-zKtWHnR3FH6"
   },
   "source": [
    "# **Importing the necessary Libraries**"
   ]
  },
  {
   "cell_type": "code",
   "execution_count": null,
   "metadata": {
    "id": "q75hcgg12x6o"
   },
   "outputs": [],
   "source": [
    "import pandas as pd\n",
    "import numpy as np\n",
    "import matplotlib.pyplot as plt\n",
    "import seaborn as sns"
   ]
  },
  {
   "cell_type": "code",
   "execution_count": null,
   "metadata": {
    "colab": {
     "base_uri": "https://localhost:8080/",
     "height": 206
    },
    "id": "VZiZ9yKm3e1-",
    "outputId": "aec416bc-cb42-4b6a-f30b-c9a6b211ab97"
   },
   "outputs": [],
   "source": [
    "# Importing the Boston Dataset\n",
    "df = pd.read_csv(\"BostonHousingData.csv\")\n",
    "df.head()"
   ]
  },
  {
   "cell_type": "markdown",
   "metadata": {
    "id": "d2zQoBkk4xFK"
   },
   "source": [
    "The Boston Housing Dataset is a derived from information collected by the U.S. Census Service concerning housing in the area of Boston MA. The following describes the dataset columns:\n",
    "\n",
    "* CRIM - per capita crime rate by town\n",
    "* ZN - proportion of residential land zoned for lots over 25,000 sq.ft.\n",
    "* INDUS - proportion of non-retail business acres per town.\n",
    "* CHAS - Charles River dummy variable (1 if tract bounds river; 0 otherwise)\n",
    "* NOX - nitric oxides concentration (parts per 10 million)\n",
    "* RM - average number of rooms per dwelling\n",
    "* AGE - proportion of owner-occupied units built prior to 1940\n",
    "* DIS - weighted distances to five Boston employment centres\n",
    "* RAD - index of accessibility to radial highways\n",
    "* TAX - full-value property-tax rate per $10,000\n",
    "* PTRATIO - pupil-teacher ratio by town B- 1000(Bk - 0.63)^2 where Bk is the proportion of blacks by town\n",
    "* LSTAT - % lower status of the population\n",
    "\n",
    "* MEDV - Median value of owner-occupied homes in $1000's"
   ]
  },
  {
   "cell_type": "markdown",
   "metadata": {
    "id": "Wxbq8mJ24gra"
   },
   "source": [
    "# **Business Understanding**\n",
    "The Boston housing dataset is majorly focused on predicting housing prices in Boston. The stakeholders to the Boston dataset couldn include Investors, Customers intrested in purchasing houses, job seeekers, housing competitors, and the government.\n",
    "\n",
    "**Problem statement**\n",
    "The goal is to develop a predictive model that accurately estimates housing prices in the Boston area. The problem arises from the complexity of various factors influencing the prices, such as crime rates, property tax, accessibility to highways, average number of rooms, and environmental quality. By building a reliable model, stakeholders can make informed decisions related to real estate investments, policy-making, market competition, and personal home purchases.\n",
    "\n",
    "**Objectives**\n",
    "1. Predicting housing prices using various models\n",
    "2. Identify key factors influencing housing prices\n",
    "3. Support decision nmaking for stakeholders\n",
    "**Research Question**\n",
    "What are the key factors that influence housing prices in Boston, and how accurately can we predict the prices of homes based on these factors?\n",
    "\n",
    "\n",
    "**Access Situation**"
   ]
  },
  {
   "cell_type": "code",
   "execution_count": null,
   "metadata": {
    "colab": {
     "base_uri": "https://localhost:8080/"
    },
    "id": "rQxUruhD4CX3",
    "outputId": "d3f201c2-08e7-462c-a3ac-18c03cbd0b9c"
   },
   "outputs": [],
   "source": [
    "df.info()"
   ]
  },
  {
   "cell_type": "code",
   "execution_count": null,
   "metadata": {
    "colab": {
     "base_uri": "https://localhost:8080/",
     "height": 523
    },
    "id": "onsPfXCs8yMA",
    "outputId": "891505e8-2961-4f09-a38d-f51444effb61"
   },
   "outputs": [],
   "source": [
    "df.isnull().mean()*100"
   ]
  },
  {
   "cell_type": "code",
   "execution_count": null,
   "metadata": {
    "id": "kdZojxFJ9J3I"
   },
   "outputs": [],
   "source": [
    "df.dropna(inplace = True)"
   ]
  },
  {
   "cell_type": "code",
   "execution_count": null,
   "metadata": {
    "colab": {
     "base_uri": "https://localhost:8080/"
    },
    "id": "f9PZL7gm9bPX",
    "outputId": "0348c949-6e20-4524-821a-00e45eeb8536"
   },
   "outputs": [],
   "source": [
    "df.info()"
   ]
  },
  {
   "cell_type": "markdown",
   "metadata": {
    "id": "0ZnbkhJw92iR"
   },
   "source": [
    "**Continuous Data Plots**\n",
    "* Histogram\n",
    "* Scatter Plot\n",
    "* Box Plot"
   ]
  },
  {
   "cell_type": "code",
   "execution_count": null,
   "metadata": {
    "colab": {
     "base_uri": "https://localhost:8080/",
     "height": 488
    },
    "id": "XJQG2xkS9foO",
    "outputId": "108386c8-1f03-48e0-b6cb-869d55d8f431"
   },
   "outputs": [],
   "source": [
    "# Correlation\n",
    "df.corr()"
   ]
  },
  {
   "cell_type": "markdown",
   "metadata": {
    "id": "o5-iM0YB-iqY"
   },
   "source": [
    "**Correlation Interpretation**\n",
    "\n",
    "Correlation ranges from -1 to +1\n",
    "* -1 = Perfect negative Correlation\n",
    "* -0.6 to -0.9 = High Negative Correlation\n",
    "* -0.3 to -0.5 = Moderate negative correlation\n",
    "* -0.1 to -0.2 = Low negative correlation\n",
    "\n",
    "* 0 = No correlation\n",
    "\n",
    "* +1 = Perfect positive Correlation\n",
    "* +0.6 to +0.9 = High positive Correlation\n",
    "* +0.3 to +0.5 = Moderate positive correlation\n",
    "* +0.1 to +0.2 = Low positive correlation\n",
    "\n",
    "\n",
    "\n"
   ]
  },
  {
   "cell_type": "code",
   "execution_count": null,
   "metadata": {
    "colab": {
     "base_uri": "https://localhost:8080/",
     "height": 699
    },
    "id": "L15AwZsJAxfu",
    "outputId": "6c003a27-ded1-4506-c43a-a351837637bf"
   },
   "outputs": [],
   "source": [
    "plt.figure(figsize = (15, 8))\n",
    "sns.heatmap(df.corr(), annot = True, cmap = \"YlGnBu\")"
   ]
  },
  {
   "cell_type": "code",
   "execution_count": null,
   "metadata": {
    "colab": {
     "base_uri": "https://localhost:8080/",
     "height": 564
    },
    "id": "tG7jBZuuEFLw",
    "outputId": "11c3e437-3d50-41ac-9307-88eca6f8924c"
   },
   "outputs": [],
   "source": [
    "plt.figure(figsize = (10,6))\n",
    "plt.scatter('RM', 'MEDV', data = df)\n",
    "plt.xlabel(\"Number of Rooms\")\n",
    "plt.ylabel(\"Median Value of Houses\")\n",
    "plt.title(\"Relationship between Number of Rooms and the Median Value of the Houses\")\n",
    "plt.show()"
   ]
  },
  {
   "cell_type": "markdown",
   "metadata": {
    "id": "5_VJv0JMOQzF"
   },
   "source": [
    "Y = a + bX\n",
    "\n"
   ]
  },
  {
   "cell_type": "code",
   "execution_count": null,
   "metadata": {
    "colab": {
     "base_uri": "https://localhost:8080/",
     "height": 564
    },
    "id": "zz0qM-e5FDFx",
    "outputId": "1bfe167f-5042-4e0f-e85b-10ae5bde8cb4"
   },
   "outputs": [],
   "source": [
    "plt.figure(figsize = (10,6))\n",
    "plt.scatter('DIS', 'NOX', data = df)\n",
    "plt.xlabel(\"Distance to 5 employment centres\")\n",
    "plt.ylabel(\"Nitric Polution\")\n",
    "plt.title(\"Relationship between the distance to 5 employment centers and the Nitric Polution\")\n",
    "plt.show()"
   ]
  },
  {
   "cell_type": "code",
   "execution_count": null,
   "metadata": {
    "colab": {
     "base_uri": "https://localhost:8080/",
     "height": 575
    },
    "id": "s4na9bPgJyAi",
    "outputId": "d1beeec5-5b67-4afe-f12d-533ebc79120b"
   },
   "outputs": [],
   "source": [
    "plt.figure(figsize = (10,6))\n",
    "sns.boxplot(df['AGE'])"
   ]
  },
  {
   "cell_type": "code",
   "execution_count": null,
   "metadata": {
    "colab": {
     "base_uri": "https://localhost:8080/",
     "height": 890
    },
    "id": "jurqSt75AfuK",
    "outputId": "f00ef0f1-af82-42a6-8610-9887616bfb17"
   },
   "outputs": [],
   "source": [
    "df.hist(figsize = (15,8))"
   ]
  },
  {
   "cell_type": "code",
   "execution_count": null,
   "metadata": {
    "id": "kBDyQD7u-oTM"
   },
   "outputs": [],
   "source": [
    "df_cleaned = df.copy()"
   ]
  },
  {
   "cell_type": "markdown",
   "metadata": {
    "id": "UYqbQoHLlKa_"
   },
   "source": [
    "## **Transforming the Data**\n",
    "The data is not normally distributed"
   ]
  },
  {
   "cell_type": "code",
   "execution_count": null,
   "metadata": {
    "id": "PcHdFhEpkag5"
   },
   "outputs": [],
   "source": [
    "# Columns to transform\n",
    "columns_to_transform = ['CRIM', 'ZN', 'INDUS', 'CHAS', 'NOX', 'RM', 'AGE', 'DIS', 'RAD', 'TAX', 'PTRATIO', 'LSTAT', 'B', 'MEDV']\n",
    "\n",
    "# Apply log transformation to the selected columns\n",
    "for column in columns_to_transform:\n",
    "    df[column] = np.log1p(df[column])"
   ]
  },
  {
   "cell_type": "code",
   "execution_count": null,
   "metadata": {
    "colab": {
     "base_uri": "https://localhost:8080/",
     "height": 890
    },
    "id": "Gfo_Smr-mkOC",
    "outputId": "5bfa0e8d-ec65-4993-918c-25905437fc36"
   },
   "outputs": [],
   "source": [
    "df.hist(figsize = (15,8))"
   ]
  },
  {
   "cell_type": "markdown",
   "metadata": {
    "id": "w6ABmpt1LA_k"
   },
   "source": [
    "## **Model Building**\n",
    "### **Linear Regression Model**\n",
    "**Import the necessary libraries**"
   ]
  },
  {
   "cell_type": "code",
   "execution_count": null,
   "metadata": {
    "id": "ebnjtesZLyDL"
   },
   "outputs": [],
   "source": [
    "from sklearn.linear_model import LinearRegression\n",
    "from sklearn.model_selection import train_test_split\n",
    "\n",
    "# Metrics for testing the model\n",
    "from sklearn.metrics import mean_squared_error\n",
    "from sklearn.metrics import r2_score"
   ]
  },
  {
   "cell_type": "code",
   "execution_count": null,
   "metadata": {
    "id": "JUXKy9skPHvb"
   },
   "outputs": [],
   "source": [
    "reg = LinearRegression()"
   ]
  },
  {
   "cell_type": "code",
   "execution_count": null,
   "metadata": {
    "id": "ccTc04pUMadh"
   },
   "outputs": [],
   "source": [
    "df_x = df.drop(['MEDV'], axis = 1)\n",
    "df_y = df['MEDV']"
   ]
  },
  {
   "cell_type": "code",
   "execution_count": null,
   "metadata": {
    "id": "8O_CtiUZLt11"
   },
   "outputs": [],
   "source": [
    "x_train, x_test, y_train, y_test = train_test_split(df_x, df_y, test_size = 0.20)"
   ]
  },
  {
   "cell_type": "code",
   "execution_count": null,
   "metadata": {
    "colab": {
     "base_uri": "https://localhost:8080/",
     "height": 80
    },
    "id": "Pz3u5V9rN9YP",
    "outputId": "ef4d8cc1-3e9d-41f3-e8c0-6153956b1cf3"
   },
   "outputs": [],
   "source": [
    "reg.fit(x_train, y_train)"
   ]
  },
  {
   "cell_type": "code",
   "execution_count": null,
   "metadata": {
    "colab": {
     "base_uri": "https://localhost:8080/"
    },
    "id": "IWnJIQEjOs_m",
    "outputId": "52e30104-3175-4a8a-b72e-172e969757ae"
   },
   "outputs": [],
   "source": [
    "y_predicted = np.round(reg.predict(x_test), 1)\n",
    "y_predicted"
   ]
  },
  {
   "cell_type": "code",
   "execution_count": null,
   "metadata": {
    "colab": {
     "base_uri": "https://localhost:8080/"
    },
    "id": "nBWcEFOVPGL8",
    "outputId": "e1ecc95e-fc40-4170-9467-96d60d6d853f"
   },
   "outputs": [],
   "source": [
    "np.round(np.array(y_test), 1)"
   ]
  },
  {
   "cell_type": "code",
   "execution_count": null,
   "metadata": {
    "colab": {
     "base_uri": "https://localhost:8080/"
    },
    "id": "L6PLqmsYBT0t",
    "outputId": "d9c98ed6-a5c4-4810-ed6b-8ce769fde0f6"
   },
   "outputs": [],
   "source": [
    "print(reg.coef_)"
   ]
  },
  {
   "cell_type": "code",
   "execution_count": null,
   "metadata": {
    "colab": {
     "base_uri": "https://localhost:8080/"
    },
    "id": "1QIyouPsBWyB",
    "outputId": "6cbd8dfd-a9ba-473a-bedd-dd4c0210605c"
   },
   "outputs": [],
   "source": [
    "print(reg.intercept_)"
   ]
  },
  {
   "cell_type": "code",
   "execution_count": null,
   "metadata": {
    "colab": {
     "base_uri": "https://localhost:8080/"
    },
    "id": "DVC4Nc7_PbhC",
    "outputId": "f241c028-0e5a-421d-b9eb-6209807e4843"
   },
   "outputs": [],
   "source": [
    "mean_squared_error(y_test, y_predicted)"
   ]
  },
  {
   "cell_type": "code",
   "execution_count": null,
   "metadata": {
    "colab": {
     "base_uri": "https://localhost:8080/"
    },
    "id": "a1lyVWkRBGwe",
    "outputId": "f9af9407-d120-4ed2-deba-f05d16aa7ea2"
   },
   "outputs": [],
   "source": [
    "r2_score(y_test, y_predicted)"
   ]
  },
  {
   "cell_type": "code",
   "execution_count": null,
   "metadata": {
    "colab": {
     "base_uri": "https://localhost:8080/"
    },
    "id": "rmC1gFHECQus",
    "outputId": "c18a6639-7c13-4aa2-d298-b0d94259095e"
   },
   "outputs": [],
   "source": [
    "reg.predict([[3, 0, 0, 0, 0, 0, 0, 0, 0, 0, 0, 0, 0]]) # Assuming all other 12 features are 0"
   ]
  },
  {
   "cell_type": "markdown",
   "metadata": {
    "id": "HGEXY9jj-1tt"
   },
   "source": [
    "## **Decision Trees**"
   ]
  },
  {
   "cell_type": "code",
   "execution_count": null,
   "metadata": {
    "id": "WoDPziPGDCx6"
   },
   "outputs": [],
   "source": [
    "df = df_cleaned.copy()"
   ]
  },
  {
   "cell_type": "code",
   "execution_count": null,
   "metadata": {
    "id": "aH74bCvzS56b"
   },
   "outputs": [],
   "source": [
    "from sklearn.tree import DecisionTreeRegressor\n",
    "from sklearn.model_selection import train_test_split\n",
    "\n",
    "# Know the max_depth and min_samples_leaf needed for the decision tree\n",
    "from sklearn.model_selection import GridSearchCV\n",
    "\n",
    "# Checking for the perfomance metrics of the decision tree\n",
    "from sklearn.metrics import r2_score\n",
    "from sklearn.metrics import mean_squared_error"
   ]
  },
  {
   "cell_type": "code",
   "execution_count": null,
   "metadata": {
    "id": "Vf531bThEL-F"
   },
   "outputs": [],
   "source": [
    "df_x = df.drop(['MEDV'], axis = 1)\n",
    "df_y = df['MEDV']"
   ]
  },
  {
   "cell_type": "code",
   "execution_count": null,
   "metadata": {
    "id": "6HHWotTTEW1q"
   },
   "outputs": [],
   "source": [
    "x_train, x_test, y_train, y_test = train_test_split(df_x, df_y, test_size = 0.20)"
   ]
  },
  {
   "cell_type": "code",
   "execution_count": null,
   "metadata": {
    "colab": {
     "base_uri": "https://localhost:8080/"
    },
    "id": "8bVI8TvTHgp0",
    "outputId": "a9c10da3-32cc-400f-af4a-378570611119"
   },
   "outputs": [],
   "source": [
    "param_grid = {\n",
    "    'max_depth': [1, 5, 10, 15],\n",
    "    'min_samples_leaf': [1, 2, 4, 8]\n",
    "}\n",
    "\n",
    "grid_search = GridSearchCV(DecisionTreeRegressor(), param_grid, cv=5)\n",
    "grid_search.fit(x_train, y_train)\n",
    "\n",
    "print(\"Best Parameters:\", grid_search.best_params_)"
   ]
  },
  {
   "cell_type": "code",
   "execution_count": null,
   "metadata": {
    "id": "ivQv61m1DCWB"
   },
   "outputs": [],
   "source": [
    "reg = DecisionTreeRegressor(criterion = 'squared_error', random_state = 100, max_depth = 10, min_samples_leaf = 4)"
   ]
  },
  {
   "cell_type": "code",
   "execution_count": null,
   "metadata": {
    "colab": {
     "base_uri": "https://localhost:8080/",
     "height": 80
    },
    "id": "kYNuBL_CEeEE",
    "outputId": "8dfc19ae-daff-4d6b-ab89-151f58d32892"
   },
   "outputs": [],
   "source": [
    "reg.fit(x_train, y_train)"
   ]
  },
  {
   "cell_type": "code",
   "execution_count": null,
   "metadata": {
    "colab": {
     "base_uri": "https://localhost:8080/"
    },
    "id": "odUP80p6Ennr",
    "outputId": "de10eab7-ff09-4c2c-f76c-b96d0c76f9ea"
   },
   "outputs": [],
   "source": [
    "y_predicted = np.round(reg.predict(x_test), 1)\n",
    "y_predicted"
   ]
  },
  {
   "cell_type": "code",
   "execution_count": null,
   "metadata": {
    "colab": {
     "base_uri": "https://localhost:8080/"
    },
    "id": "87W0-sWeEnjw",
    "outputId": "3bc4cd8f-12f1-4112-8906-e37e9a923b42"
   },
   "outputs": [],
   "source": [
    "np.round(np.array(y_test), 1)"
   ]
  },
  {
   "cell_type": "code",
   "execution_count": null,
   "metadata": {
    "colab": {
     "base_uri": "https://localhost:8080/"
    },
    "id": "p5LvZV2sEngA",
    "outputId": "1263c2b8-5fd1-4b7c-c5a6-ffb1f5597567"
   },
   "outputs": [],
   "source": [
    "mean_squared_error(y_test, y_predicted)"
   ]
  },
  {
   "cell_type": "code",
   "execution_count": null,
   "metadata": {
    "colab": {
     "base_uri": "https://localhost:8080/"
    },
    "id": "PRPsMakwLMTZ",
    "outputId": "ce7fb214-aac7-41fe-e0b3-6d16697f4612"
   },
   "outputs": [],
   "source": [
    "r2_score(y_test, y_predicted)"
   ]
  },
  {
   "cell_type": "code",
   "execution_count": null,
   "metadata": {
    "colab": {
     "base_uri": "https://localhost:8080/",
     "height": 642
    },
    "id": "QOPdd9ULIlki",
    "outputId": "96295593-e093-450d-cc24-34ee1afa6133"
   },
   "outputs": [],
   "source": [
    "from sklearn.tree import plot_tree\n",
    "plt.figure(figsize = (20,10))\n",
    "plot_tree(reg, filled = True, max_depth = 3)\n",
    "plt.show()"
   ]
  },
  {
   "cell_type": "markdown",
   "metadata": {
    "id": "3lHcZgjwLiuX"
   },
   "source": [
    "## **Random Forest**"
   ]
  },
  {
   "cell_type": "code",
   "execution_count": null,
   "metadata": {
    "id": "jnwfhJCuMj9x"
   },
   "outputs": [],
   "source": [
    "df = df_cleaned.copy()"
   ]
  },
  {
   "cell_type": "code",
   "execution_count": null,
   "metadata": {
    "id": "cU8dT2PfMq-M"
   },
   "outputs": [],
   "source": [
    "from sklearn.ensemble import RandomForestRegressor\n",
    "from sklearn.model_selection import train_test_split\n",
    "\n",
    "# Library to use for the Hyperparameters for the RandomForestRegressor\n",
    "from sklearn.model_selection import RandomizedSearchCV\n",
    "\n",
    "# Checking for the perfomance metrics of the decision tree\n",
    "from sklearn.metrics import r2_score\n",
    "from sklearn.metrics import mean_squared_error"
   ]
  },
  {
   "cell_type": "code",
   "execution_count": null,
   "metadata": {
    "id": "nWLwpVKcMrBr"
   },
   "outputs": [],
   "source": [
    "df_x = df.drop(['MEDV'], axis = 1)\n",
    "df_y = df['MEDV']"
   ]
  },
  {
   "cell_type": "code",
   "execution_count": null,
   "metadata": {
    "id": "W2DF_4AWMrFo"
   },
   "outputs": [],
   "source": [
    "x_train, x_test, y_train, y_test = train_test_split(df_x, df_y, test_size = 0.20)"
   ]
  },
  {
   "cell_type": "code",
   "execution_count": null,
   "metadata": {
    "colab": {
     "base_uri": "https://localhost:8080/"
    },
    "id": "v1r7Lk3OOcvs",
    "outputId": "fe5bd48c-1d71-429f-dfa2-2e31c775dbab"
   },
   "outputs": [],
   "source": [
    "# Knowing the hyperparameters for the Random Forest\n",
    "hyper_parameters = RandomizedSearchCV(\n",
    "    estimator=RandomForestRegressor(), # Add the estimator here\n",
    "    param_distributions={ # Pass n_estimators within param_distributions\n",
    "        'n_estimators': [100],\n",
    "        'max_depth': [int(x) for x in np.linspace(10, 120, num = 12)],\n",
    "        'min_samples_split': [2, 6, 10],\n",
    "        'min_samples_leaf': [1, 3, 4],\n",
    "        'bootstrap': [True, False]\n",
    "    }\n",
    ")\n",
    "\n",
    "hyper_parameters.fit(x_train, y_train)\n",
    "print(hyper_parameters.best_params_)"
   ]
  },
  {
   "cell_type": "code",
   "execution_count": null,
   "metadata": {
    "id": "JXXNHYBzNav2"
   },
   "outputs": [],
   "source": [
    "forest = RandomForestRegressor(n_estimators = 100, max_depth = 10, min_samples_split = 2, min_samples_leaf = 1, bootstrap = True)"
   ]
  },
  {
   "cell_type": "code",
   "execution_count": null,
   "metadata": {
    "colab": {
     "base_uri": "https://localhost:8080/",
     "height": 80
    },
    "id": "xrb1p9uEOqq8",
    "outputId": "a3bdf8b1-6748-47d6-c1ab-60fa019fee5d"
   },
   "outputs": [],
   "source": [
    "forest.fit(x_train, y_train)"
   ]
  },
  {
   "cell_type": "code",
   "execution_count": null,
   "metadata": {
    "colab": {
     "base_uri": "https://localhost:8080/"
    },
    "id": "fWufWvJYOtmG",
    "outputId": "86311bef-32b9-457a-ca0e-9183a5838324"
   },
   "outputs": [],
   "source": [
    "y_predicted = np.round(reg.predict(x_test), 1)\n",
    "y_predicted"
   ]
  },
  {
   "cell_type": "code",
   "execution_count": null,
   "metadata": {
    "colab": {
     "base_uri": "https://localhost:8080/"
    },
    "id": "wVWySO1OP37L",
    "outputId": "ee43b70a-5cbe-4868-b679-8d818689145d"
   },
   "outputs": [],
   "source": [
    "np.round(np.array(y_test), 1)"
   ]
  },
  {
   "cell_type": "code",
   "execution_count": null,
   "metadata": {
    "colab": {
     "base_uri": "https://localhost:8080/"
    },
    "id": "brYshtQtP5rX",
    "outputId": "38b28611-e067-4650-a110-446a72874b84"
   },
   "outputs": [],
   "source": [
    "mean_squared_error(y_test, y_predicted)"
   ]
  },
  {
   "cell_type": "code",
   "execution_count": null,
   "metadata": {
    "colab": {
     "base_uri": "https://localhost:8080/"
    },
    "id": "7j738jR1P5nn",
    "outputId": "9b58ab40-76b3-4e3c-937b-f0d4c8b93e39"
   },
   "outputs": [],
   "source": [
    "r2_score(y_test, y_predicted)"
   ]
  },
  {
   "cell_type": "code",
   "execution_count": null,
   "metadata": {
    "colab": {
     "base_uri": "https://localhost:8080/",
     "height": 642
    },
    "id": "1__c9YYwQdKn",
    "outputId": "07b1e56c-76d2-4322-8d32-6e2bd6e68d5b"
   },
   "outputs": [],
   "source": [
    "# Random Forest Plot\n",
    "plt.figure(figsize = (20,10))\n",
    "plot_tree(forest.estimators_[0], filled = True, max_depth = 3)\n",
    "plt.show()"
   ]
  },
  {
   "cell_type": "markdown",
   "metadata": {
    "id": "rUNi4A-CTKSJ"
   },
   "source": [
    "## **Support Vector Machine**"
   ]
  },
  {
   "cell_type": "code",
   "execution_count": null,
   "metadata": {
    "id": "ACcypg_UTJpC"
   },
   "outputs": [],
   "source": [
    "df = df_cleaned.copy()"
   ]
  },
  {
   "cell_type": "code",
   "execution_count": null,
   "metadata": {},
   "outputs": [],
   "source": [
    "from sklearn.svm import SVR\n",
    "from sklearn.model_selection import train_test_split\n",
    "\n",
    "# Library to use for the Hyperparameters for the Support Vector Regressor\n",
    "from sklearn.model_selection import RandomizedSearchCV\n",
    "\n",
    "# Checking for the perfomance metrics of the decision tree\n",
    "from sklearn.metrics import r2_score\n",
    "from sklearn.metrics import mean_squared_error"
   ]
  },
  {
   "cell_type": "code",
   "execution_count": null,
   "metadata": {},
   "outputs": [],
   "source": [
    "df_x = df.drop(['MEDV'], axis = 1)\n",
    "df_y = df['MEDV']"
   ]
  },
  {
   "cell_type": "code",
   "execution_count": null,
   "metadata": {},
   "outputs": [],
   "source": [
    "x_train, x_test, y_train, y_test = train_test_split(df_x, df_y, test_size = 0.20)"
   ]
  },
  {
   "cell_type": "code",
   "execution_count": null,
   "metadata": {},
   "outputs": [],
   "source": [
    "# Knowing the hyperparameters for the Random Forest\n",
    "hyper_parameters = RandomizedSearchCV(\n",
    "    estimator=SVR(), # Add the estimator here\n",
    "    param_distributions={ # Pass n_estimators within param_distributions\n",
    "        'kernel': ['linear', 'poly', 'rbf', 'sigmoid'],\n",
    "        'C': [0.1, 1, 10, 100],\n",
    "        'gamma': ['scale', 'auto']\n",
    "    }\n",
    ")\n",
    "\n",
    "#hyper_parameters.fit(x_train, y_train)\n",
    "#print(hyper_parameters.best_params_)"
   ]
  },
  {
   "cell_type": "code",
   "execution_count": null,
   "metadata": {},
   "outputs": [],
   "source": [
    "svm_reg = SVR(kernel = 'linear', C = 10, gamma = 'scale')"
   ]
  },
  {
   "cell_type": "code",
   "execution_count": null,
   "metadata": {},
   "outputs": [],
   "source": [
    "svm_reg.fit(x_train, y_train)"
   ]
  },
  {
   "cell_type": "code",
   "execution_count": null,
   "metadata": {},
   "outputs": [],
   "source": [
    "y_predicted = np.round(reg.predict(x_test), 1)\n",
    "y_predicted"
   ]
  },
  {
   "cell_type": "code",
   "execution_count": null,
   "metadata": {},
   "outputs": [],
   "source": [
    "np.round(np.array(y_test), 1)"
   ]
  },
  {
   "cell_type": "code",
   "execution_count": null,
   "metadata": {},
   "outputs": [],
   "source": [
    "mean_squared_error(y_test, y_predicted)"
   ]
  },
  {
   "cell_type": "code",
   "execution_count": null,
   "metadata": {},
   "outputs": [],
   "source": [
    "r2_score(y_test, y_predicted)"
   ]
  },
  {
   "cell_type": "code",
   "execution_count": null,
   "metadata": {},
   "outputs": [],
   "source": []
  }
 ],
 "metadata": {
  "colab": {
   "provenance": []
  },
  "kernelspec": {
   "display_name": "Python 3 (ipykernel)",
   "language": "python",
   "name": "python3"
  },
  "language_info": {
   "codemirror_mode": {
    "name": "ipython",
    "version": 3
   },
   "file_extension": ".py",
   "mimetype": "text/x-python",
   "name": "python",
   "nbconvert_exporter": "python",
   "pygments_lexer": "ipython3",
   "version": "3.11.7"
  }
 },
 "nbformat": 4,
 "nbformat_minor": 4
}
